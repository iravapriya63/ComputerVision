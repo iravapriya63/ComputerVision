{
 "cells": [
  {
   "cell_type": "code",
   "execution_count": 289,
   "id": "bf3d82c4",
   "metadata": {},
   "outputs": [],
   "source": [
    "import numpy as np\n",
    "from math import acos, asin,sin"
   ]
  },
  {
   "cell_type": "markdown",
   "id": "4775c7a0",
   "metadata": {},
   "source": [
    "##### Calculating Parametric Matrix"
   ]
  },
  {
   "cell_type": "markdown",
   "id": "67c5d19a",
   "metadata": {},
   "source": [
    "z=[0,24,48,72,96,120,144,168,192,216,240]\n",
    "\n",
    "y=[0,24,48,72,96,120,144,168,192,216,240]\n",
    "\n",
    "x=[0,10,16,24,30,36,44,50,55,64,70,78]\n",
    "\n",
    "u=[1567.25,1522.25,1468.25,1415.75,1366.25,1316.75,1262.75,1213.25,1160.75,1106.75,1054.25,1001.75]\n",
    "\n",
    "v=[814.25,760.25,700.25,643.25,581.75,526.25,467.75,409.25,349.25,287.75,221.75,160.25]\n",
    "\n",
    "#y=[x*0.0393701 for x in y]\n",
    "#z=[x*0.0393701 for x in z]\n",
    "#x=[x*0.0393701 for x in x]\n"
   ]
  },
  {
   "cell_type": "code",
   "execution_count": 222,
   "id": "5e595513",
   "metadata": {},
   "outputs": [],
   "source": [
    "y=[66,90.4,114.8,139.2,163.6,188,212.4,236.8,261.2,285.6,310]\n",
    "y=[x-36 for x in y]\n",
    "x=[0,5,16,25,35,45,56,65,75,85,90]\n",
    "z=[0,24.4,48.8,73.2,97.6,122,146.4,170.8,195.2,219.6,244]\n",
    "v=[1344.76729191090,1310.58206330598,1277.66295427902,1244.74384525205,\n",
    "   1211.82473622509,1180.17174677608,1145.98651817116,1115.59964830012,\n",
    "1082.68053927315,1049.76143024619,1018.10844079719]\n",
    "u=[997.569167643611,957.053341148886,919.069753810082,881.086166471278,\n",
    "   841.836459554514,802.586752637749,763.337045720985,727.885697538101,\n",
    "689.902110199297,651.918522860493,613.934935521688]\n",
    "#y=[x*0.0393701 for x in y]\n",
    "#z=[x*0.0393701 for x in z]\n",
    "#x=[x*0.0393701 for x in x]\n"
   ]
  },
  {
   "cell_type": "code",
   "execution_count": 251,
   "id": "ab639568",
   "metadata": {},
   "outputs": [],
   "source": [
    "a=[]\n",
    "for i in range(2,8):\n",
    "    a.append([x[i],y[i],z[i],1,0,0,0,0,-1*u[i]*x[i],-1*u[i]*y[i],-1*u[i]*z[i],-1*u[i]])\n",
    "    a.append([0,0,0,0,x[i],y[i],z[i],1,-1*v[i]*x[i],-1*v[i]*y[i],-1*v[i]*z[i],-1*v[i]])\n",
    "    "
   ]
  },
  {
   "cell_type": "code",
   "execution_count": 252,
   "id": "d2681289",
   "metadata": {},
   "outputs": [],
   "source": [
    "b=np.array(a)"
   ]
  },
  {
   "cell_type": "code",
   "execution_count": 253,
   "id": "13cc5f46",
   "metadata": {},
   "outputs": [],
   "source": [
    "c=np.linalg.eig(b.T*b)\n",
    "p=c[1][np.where(c[0]==min(c[0]))[0][0]]\n",
    "p=np.array(p).reshape((3,4))"
   ]
  },
  {
   "cell_type": "code",
   "execution_count": 254,
   "id": "92500a3f",
   "metadata": {},
   "outputs": [
    {
     "data": {
      "text/plain": [
       "array([[ 1.07752786e-04, -1.73820071e-02, -1.05056488e-01,\n",
       "        -2.45115951e-01],\n",
       "       [-2.83318763e-01,  5.81408591e-01,  9.31285259e-02,\n",
       "        -5.22361073e-01],\n",
       "       [-3.93185066e-01,  1.02689974e-01,  2.15440041e-01,\n",
       "         1.31093616e-01]])"
      ]
     },
     "execution_count": 254,
     "metadata": {},
     "output_type": "execute_result"
    }
   ],
   "source": [
    "p"
   ]
  },
  {
   "cell_type": "code",
   "execution_count": 255,
   "id": "08eaa7a3",
   "metadata": {},
   "outputs": [],
   "source": [
    "qr_mat=[p[0][:3],p[1][:3],p[2][:3]]"
   ]
  },
  {
   "cell_type": "code",
   "execution_count": 256,
   "id": "4a47d00b",
   "metadata": {},
   "outputs": [
    {
     "data": {
      "text/plain": [
       "array([[ 1.07752786e-04, -1.73820071e-02, -1.05056488e-01],\n",
       "       [-2.83318763e-01,  5.81408591e-01,  9.31285259e-02],\n",
       "       [-3.93185066e-01,  1.02689974e-01,  2.15440041e-01]])"
      ]
     },
     "execution_count": 256,
     "metadata": {},
     "output_type": "execute_result"
    }
   ],
   "source": [
    "np.array(qr_mat).reshape((3,3))"
   ]
  },
  {
   "cell_type": "code",
   "execution_count": 257,
   "id": "e3bf2430",
   "metadata": {},
   "outputs": [],
   "source": [
    "r,K=np.linalg.qr(qr_mat)\n",
    "K=K.T\n",
    "K/=K[2][2]\n",
    "K[0][0]=K[0][0]*4208/5.867\n",
    "K[1][1]=K[1][1]*3120/5.867"
   ]
  },
  {
   "cell_type": "markdown",
   "id": "8fbfd853",
   "metadata": {},
   "source": [
    "### Intrincsic Matrix"
   ]
  },
  {
   "cell_type": "code",
   "execution_count": 258,
   "id": "e4732ef2",
   "metadata": {},
   "outputs": [
    {
     "data": {
      "text/plain": [
       "array([[-2.22341358e-04,  4.19574966e-02,  9.99119372e-01],\n",
       "       [ 5.84611135e-01, -8.10593729e-01,  3.41705584e-02],\n",
       "       [ 8.11313608e-01,  5.84103908e-01, -2.43485912e-02]])"
      ]
     },
     "execution_count": 258,
     "metadata": {},
     "output_type": "execute_result"
    }
   ],
   "source": [
    "r"
   ]
  },
  {
   "cell_type": "code",
   "execution_count": 259,
   "id": "2bf6e3f5",
   "metadata": {},
   "outputs": [
    {
     "data": {
      "text/plain": [
       "array([[ 3.24767830e+03, -3.95427391e+00, -2.14203851e+00],\n",
       "       [-0.00000000e+00,  2.04727653e+03, -4.29255239e-01],\n",
       "       [-0.00000000e+00, -0.00000000e+00,  1.00000000e+00]])"
      ]
     },
     "execution_count": 259,
     "metadata": {},
     "output_type": "execute_result"
    }
   ],
   "source": [
    "K.T"
   ]
  },
  {
   "cell_type": "markdown",
   "id": "fdefcb38",
   "metadata": {},
   "source": [
    "#### Angles of rotation"
   ]
  },
  {
   "cell_type": "code",
   "execution_count": 292,
   "id": "7216e9d0",
   "metadata": {},
   "outputs": [
    {
     "data": {
      "text/plain": [
       "[1.5951473245038992, 0.6239890476480262, 0.034187351150459636]"
      ]
     },
     "execution_count": 292,
     "metadata": {},
     "output_type": "execute_result"
    }
   ],
   "source": [
    "theta=acos(r[2][2])\n",
    "phi=asin(r[2][1]/sin(theta))\n",
    "gamma=asin(r[1][2]/sin(theta))\n",
    "[theta,phi,gamma]"
   ]
  },
  {
   "cell_type": "markdown",
   "id": "bbc5eb6c",
   "metadata": {},
   "source": [
    "### Extrensic Matrix"
   ]
  },
  {
   "cell_type": "code",
   "execution_count": 260,
   "id": "a0f94894",
   "metadata": {},
   "outputs": [
    {
     "data": {
      "text/plain": [
       "array([-7.54742091e-05, -2.55295028e-04,  1.30822361e-01])"
      ]
     },
     "execution_count": 260,
     "metadata": {},
     "output_type": "execute_result"
    }
   ],
   "source": [
    "P=[p[0][3],p[1][3],p[2][3]]\n",
    "np.dot(np.linalg.inv(K),P)"
   ]
  },
  {
   "cell_type": "markdown",
   "id": "4deb5f16",
   "metadata": {},
   "source": [
    "### Calculating Homography\n"
   ]
  },
  {
   "cell_type": "code",
   "execution_count": 280,
   "id": "3c822dd0",
   "metadata": {},
   "outputs": [],
   "source": [
    "A=[]\n",
    "xs=[1001.75,1054.25,1106.75,1157.75,1210.25,1259.75]\n",
    "xd=[1072.25,1121.75,1172.75,1228.25,1286.75,1345.25]\n",
    "ys=[160.25,221.75,284.75,346.25,403.25,464.75]\n",
    "yd=[218.75,262.25,310.25,359.75,410.75,464.75]\n",
    "\n",
    "for i in range(6):\n",
    "    A.append([xs[i],ys[i],1,0,0,0,-1*xd[i]*xs[i],-1*xd[i]*ys[i],-1*xd[i]])\n",
    "    A.append([0,0,0,xs[i],ys[i],1,-1*yd[i]*xs[i],-1*yd[i]*ys[i],-1*yd[i]])\n",
    "A=np.mat(A)\n",
    "Res= A.T*A\n",
    "\n",
    "g=np.linalg.eig(Res)\n",
    "H=g[1][np.where(g[0]==min(g[0]))[0][0]]\n",
    "H=np.array(H).reshape((3,3))"
   ]
  },
  {
   "cell_type": "code",
   "execution_count": 281,
   "id": "64608809",
   "metadata": {},
   "outputs": [
    {
     "data": {
      "text/plain": [
       "array([[-2.83569676e-01,  9.58950297e-01,  5.30429690e-04],\n",
       "       [ 4.73419274e-04, -1.15481566e-04, -1.41154283e-03],\n",
       "       [-2.33617583e-04,  7.27010923e-07,  5.47913329e-07]])"
      ]
     },
     "execution_count": 281,
     "metadata": {},
     "output_type": "execute_result"
    }
   ],
   "source": [
    "H"
   ]
  },
  {
   "cell_type": "code",
   "execution_count": null,
   "id": "eb00c125",
   "metadata": {},
   "outputs": [],
   "source": []
  }
 ],
 "metadata": {
  "kernelspec": {
   "display_name": "Python 3 (ipykernel)",
   "language": "python",
   "name": "python3"
  },
  "language_info": {
   "codemirror_mode": {
    "name": "ipython",
    "version": 3
   },
   "file_extension": ".py",
   "mimetype": "text/x-python",
   "name": "python",
   "nbconvert_exporter": "python",
   "pygments_lexer": "ipython3",
   "version": "3.9.7"
  }
 },
 "nbformat": 4,
 "nbformat_minor": 5
}
